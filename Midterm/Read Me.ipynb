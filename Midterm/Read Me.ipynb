{
 "cells": [
  {
   "cell_type": "markdown",
   "metadata": {},
   "source": [
    "My work is split in two notebooks. Therefore, first you have to read: Marvel - Project 1, then Marvel - Project 2. I explained in my notebook why I decided to split into two works. Please, don't run the second notebook. I'm using the library community and I didn't succeed to seed it. Therefore, if you run it will change my results. Indeed, sometimes there is 5 communities but me I deal with only 4."
   ]
  }
 ],
 "metadata": {
  "kernelspec": {
   "display_name": "Python 3",
   "language": "python",
   "name": "python3"
  },
  "language_info": {
   "codemirror_mode": {
    "name": "ipython",
    "version": 3
   },
   "file_extension": ".py",
   "mimetype": "text/x-python",
   "name": "python",
   "nbconvert_exporter": "python",
   "pygments_lexer": "ipython3",
   "version": "3.7.1"
  }
 },
 "nbformat": 4,
 "nbformat_minor": 2
}
