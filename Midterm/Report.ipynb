{
 "cells": [
  {
   "cell_type": "markdown",
   "metadata": {},
   "source": [
    "# Midterm Project\n",
    "---\n",
    "For the midterm project your task is to find a network and then analyse it using the tools and techniques presented through the first five lectures of the course.\n",
    "\n",
    "This is an individual project and must be completed on your own. While you are free to discuss with classmates the various analyses you each may be attempting with your data, I would advise you to keep in mind that given the wide range of networks available, an analysis that is meaningful for their network may not, necessarily, be meaningful for yours.\n",
    "\n",
    "In the same vein, no two students should knowingly select the same (or highly similar) data sets. If you discover a conflict, you should both reach out to me as soon as possible via email ([orion.penner@epfl.ch](mailto:orion.penner@epfl.ch)).\n",
    "\n",
    "## Deadline\n",
    "\n",
    "This project is due __Tuesday April 2, 2019__. The last commit at or before __15:59__ on that date will be graded.\n",
    "\n",
    "__Note the due date and time are different than what you are used to from the assignments.__\n",
    "\n",
    "## Submitting\n",
    "\n",
    "As is the case for assignments, your project must be turned (committed and pushed) to your private repository on the course's github organization located at [github.com/orgs/mgt-416-2019](https://github.com/orgs/mgt-416-2019).\n",
    "\n",
    "## What to submit\n",
    "\n",
    "The most important thing you will submit is this notebook (Report.ipynb). It is the primary document I will use in arriving at your grade. This notebook should contain all the network analysis, results and interpretation that you wish me to consider.\n",
    "\n",
    "However, you should also submit any other materials that you used or developed in the course of the project. Including but not limited to:\n",
    "* the network file(s) you analyse.\n",
    "* any additional notebooks.\n",
    "* any additional code (as text files).\n",
    "* any raw and semi-raw data used to construct the network.\n",
    "* any documentation you may have acquired on the data.\n",
    "\n",
    "In a nutshell, please include anything (code, data, and so on) you generated in the course of the project.\n",
    "\n",
    "#### A special note on large datasets\n",
    "\n",
    "If you happen to be working with a particularly large data set, I certainly appreciate the effort. But unfortunately GitHub is a code repository and struggles with large files. If your data meets either of these criteria:\n",
    "* any individual file is larger than 25MB\n",
    "* any directory contains more than ~20 data files or directories\n",
    "\n",
    "or if your data fails to upload to your private repository for any other reason, please email me ([orion.penner@epfl.ch](mailto:orion.penner@epfl.ch)) and I will set up a google drive solution.\n",
    "\n",
    "_note_: When I am talking about data, I mean files that you have locally on your computer. If, for example, you have downloaded some (but not all) of the data from a webpage/api/_etc_ it is only necessary you share the data you took/collected.\n",
    "\n",
    "## Finding a network\n",
    "\n",
    "In encourage you to keep an open mind in searching for a network to analyse. But I also offer the advice that the process of acquiring and transforming raw data into a network is almost always be painful and time consuming. And in a way that you will certainly underestimate the amount of time it will take. So please use your best judgement.\n",
    "\n",
    "There are a number of repositories and resources available for finding a \"ready-made\" network. Here is a list I have compiled, offered without endorsement or guarantee:\n",
    "\n",
    "* [Stanford Large Network Dataset Collection](https://snap.stanford.edu/data/)\n",
    "* [NIST Link Dump](https://math.nist.gov/~RPozo/complex_datasets.html)\n",
    "* [Koblenz Network Collection](http://konect.uni-koblenz.de/)\n",
    "* [Colorado Index of Complex Networks](https://icon.colorado.edu/)\n",
    "* [Laboratory for Web Algorithmics](http://law.di.unimi.it/datasets.php)\n",
    "* [Social and Political Interacting Networks](https://spins.faculty.ucdavis.edu/international-network-data/alliance-networks/)\n",
    "* [Network Repository](http://networkrepository.com/)\n",
    "\n",
    "In particular, if you use a \"ready-made\" network I advise you to review the grading criteria below concerning the description of data and background. The documentation of many \"ready-made\" networks will not be enough to allow you to meet the minimum expectations.\n",
    "\n",
    "## Grading scheme\n",
    "\n",
    "As conveyed in Lectures 3 and 5, the grading scheme for your project breaks down as follows:\n",
    "\n",
    "$\\qquad$20% - Description of the data and background.  \n",
    "$\\qquad$30% - Thoroughness of the quantitative analysis.  \n",
    "$\\qquad$30% - Thoughtfulness and clarity of the interpretation of quantitative results.  \n",
    "$\\qquad$10% - Novelty of the data.  \n",
    "$\\qquad$10% - Quality of documentation.\n",
    "\n",
    "In each category, up to 80% of the marks will be awarded for meeting minimum expectations. The last 20% will be awarded for exceeding expectations.\n",
    "\n",
    "Below I outline, roughly, the minimum expectations in each category.\n",
    "\n",
    "#### Description of the data and background\n",
    "\n",
    "In determining this portion of your grade I am looking for you to outline the details of the data you are working with. As this is worth 20%, the expectation is that you cover the points below in some depth. My advice is to start your report with with a section where you discuss and describe the data. In that section you should include details like:\n",
    "* What kind of network it is. _i.e._ directed or undirected, weighted, bipartite, _etc_\n",
    "* What is a node in the network.\n",
    "* What is a link in the network.\n",
    "* Where you got the data from (include links and references if possible).\n",
    "* If you collected the data yourself, outline how you collected the data and the process by which you turned it into a network.\n",
    "* If you found your network already in a network format, outline the process used by its original creator to build the network. In other words, tell me what their base data was, where it came from, and how they turned it into a network.\n",
    "* Some basic background on the system from which the data arises.\n",
    "\n",
    "#### Thoroughness of the quantitative analysis\n",
    "\n",
    "This portion of the grade will be assigned in accordance with how many analyses you (correctly) carry out on the network. The pool of potential analyses you may draw from includes those from Lectures 1 to 5 (inclusive). For Lectures 1 to 4, Assignments 1 and 2 can serve as a good guide as to which properties/analyses to consider.\n",
    "\n",
    "For each potential analysis, be sure to take a second to consider whether it makes sense for your network. For example, a homophily calculation will only make sense if you have a strong external variable. Similarly, if your network is weighted and/or directed, there may be some additional analyses not on the assignments that may be particularly relevant. Or, depending on the source/meaning of your data, some analyses that were not on an assignment may be interesting as well (_ex._ link overlap). However, if/when you do omit a particular analysis due to the properties of the network, please acknowledge it in a markdown cell and give a brief reason (_ex._ my network is weighted, so typical closeness centrality is unsuitable).\n",
    "\n",
    "My advice is to roughly follow the order in which material has been presented (_i.e._ start with basic things like N, L and density and finish up with community detection). But ultimately, feel free to organize things in any order that you feel is best.\n",
    "\n",
    "A few notes:\n",
    "* For an undirected network, remember to use the Giant Connected Component when required.\n",
    "* Similarly, for a directed network, remember to use the largest Strongly/Weakly Connected Component when it is appropriate to a given analysis.\n",
    "* Don't feel as if you must use one (basic) version of the network for every analysis. You don't have to go out of your way to \"invent\" new versions to look at, but if something comes up in the flow of analysis, don't hesitate to look at it from a different angle. For example, if directed/weighted and taking the undirected/unweighted makes sense for an analysis, do it. Similarly for reversing the direction of links. And if there some particular subgraphs that may be interesting, by all means look at them.\n",
    "* Lecture 5 is included and it is expected that you at least attempt community detection.\n",
    "\n",
    "#### Thoughtfulness and clarity of the interpretation of quantitative results\n",
    "\n",
    "This portion of the grade will be assigned on based on how you present and interpret the results of the analyses you carry out on the network. Specifically I am looking for:\n",
    "\n",
    "1. Are the results presented in a manner that makes it easy to compare and/or interpret? This includes the use of tables and graphs when appropriate.\n",
    "2. Are the basic conclusions you draw correct and consistent with the actual result? For example, if you plot the degree distribution and draw the conclusion that it is broad when it is not, that is a deduction.\n",
    "3. Are the results interpreted on a higher level, in the context of where your network data actually comes from. For example, if you are dealing with a social network drawn from a specific setting, is a broad degree distribution consistent with what you know about the setting and/or what may you now understand about the setting based on this result.\n",
    "4. Are later results interpreted in the context of previous results? For example, if you see in the degree distribution that there is a small number of dominant nodes, when looking at centrality, do those nodes stand out again?\n",
    "5. Are unexpected/unusual findings investigated through additional analysis?\n",
    "\n",
    "Points 1 and 2 count only towards meeting the minimum expectations. Point 3 counts mostly towards the minimum, but particularly thoughtful or creative interpretations will be considered to exceed. Points 4 and 5 will count mostly towards exceeding the minimum.\n",
    "\n",
    "#### Novelty and suitability of the data\n",
    "\n",
    "This portion of the grade will be assigned based on a broad evaluation of the novelty of the data analyzed, the time and effort that went into collecting it, and its suitability for network analysis.\n",
    "\n",
    "In terms of general novelty, points that would count against novelty include:\n",
    "* Is the data highly similar to networks that have been presented thus far in lectures, exercises and assignments?\n",
    "* How extensively have networks of this type been analyzed before?\n",
    "\n",
    "And in favour of novelty:\n",
    "* Does the data offer pathways for further analysis in the context of a final group project?\n",
    "\n",
    "In terms of time and effort, points that will be evaluated include:\n",
    "* How big is the network. By no means should you go out of your way to find a bigger network as the returns, in terms of marks, are going to be minimal compared to the extra work. But those who work with bigger networks are going to receive slightly more marks here.\n",
    "* Did you collect the base data on your own?\n",
    "* Did you construct the network yourself, either from your base data or from someone else's base data?\n",
    "* Did you integrate additional data into the network?\n",
    "* If using network data created by someone else, did you do any pre-processing or cleaning of that data?\n",
    "\n",
    "In terms of suitability, points that will be evaluated include:\n",
    "* Is the network sparse or dense? Dense networks are generally less suitable for network analysis.\n",
    "* Does the network come from a correlation matrix, or similar? This is generally undesirable.\n",
    "* Does the underlying data capture true pairwise interactions that can well represented by links? For example, you could build a network in which you link each student at EPFL registered in the same course is linked. But that would be a very questionable link as there is no evidence of any one-to-one connection between any pair of people.\n",
    "\n",
    "#### Quality of documentation\n",
    "\n",
    "This portion of the grade essentially comes down to how easy it is for me to sort out what it is you did, why you did it, and what you understood/inferred from it.\n",
    "\n",
    "Code should be commented to a reasonable extent. Functions you will reuse, or lengthy chunks of code, should include at least a brief (one line) comment stating their goal, and perhaps, how they accomplish that goal. But do not feel you must comment every little detail. Use your judgement, especially if you have significant coding experience.\n",
    "\n",
    "Properly commenting code does, however, extend to all code you turn in. So if you have collected data using another notebook or program, please comment those as well. In practice, I will not be going through additional notebooks and code as extensively as your report notebook, so things will be a bit more lax, but you should at least have some descriptions and comments in those supplementary files.\n",
    "\n",
    "When a code cell produces a result you will interpret in subsequent cells (especially if it produces many numbers you reference later) use a formatted print, pandas dataframe, or copy and paste into a markdown table. To get an idea of when this is appropriate, and how to accomplish it, please consult the assignment solutions.\n",
    "\n",
    "For the markdown cells in which you interpret your results and draw conclusions, the expectation is that answers will be written in coherent, relatively error free, english. If your spelling is especially poor I recommend you look into adding spell check tools to your notebook environment. [Calysto](http://calysto.github.io/) offers that functionality, in addition to a lot more. There are also other spell checking packages you can find using google.\n",
    "\n",
    "As a follow on, presenting the data your are interpreting in a table or figure will often help you make a much clearer interpretation. Please make use of those tools when it suits the situation.\n",
    "\n",
    "## Structure of this notebook\n",
    "\n",
    "Directly below this cell you will find a series of grading cells. Please do not alter them.\n",
    "\n",
    "Please create your report below the grading cells. Structure it in any way you feel best presents your work.\n",
    "\n",
    "However, a bit of advice:\n",
    "\n",
    "* __Do__ start with a section that introduces the data, network, and covers the criteria laid out above for \"Description of the data and background\".\n",
    "* __Do not__ create a separate section for every other portion of the grading scheme. Do not create separate sections for analysis and interpretation, rather interpret results as they arise. Similarly, do not create sections for \"Novelty and suitability of the data\" or \"Quality of documentation\". Those will be assessed based on the project as a whole.\n",
    "* __Do__ create separate sections (and sub-sections) for each type of analysis. For example, include all your exploration of the degree distribution in a section under a heading titled as such. Make use of subheadings as well."
   ]
  },
  {
   "cell_type": "markdown",
   "metadata": {},
   "source": [
    "---\n",
    "\n",
    "---"
   ]
  },
  {
   "cell_type": "markdown",
   "metadata": {},
   "source": [
    "## Grading Cells\n",
    "#### Do not alter"
   ]
  },
  {
   "cell_type": "code",
   "execution_count": null,
   "metadata": {
    "collapsed": true
   },
   "outputs": [],
   "source": [
    "FinalPointsList = []"
   ]
  },
  {
   "cell_type": "markdown",
   "metadata": {},
   "source": [
    "### Description of the data and background\n",
    "\n",
    "Grade = Null/20"
   ]
  },
  {
   "cell_type": "code",
   "execution_count": null,
   "metadata": {
    "collapsed": true
   },
   "outputs": [],
   "source": [
    "Part1Points = None\n",
    "FinalPointsList.append(Part1Points)"
   ]
  },
  {
   "cell_type": "markdown",
   "metadata": {},
   "source": [
    "---"
   ]
  },
  {
   "cell_type": "markdown",
   "metadata": {},
   "source": [
    "### Thoroughness of the quantitative analysis\n",
    "\n",
    "Grade = Null/30"
   ]
  },
  {
   "cell_type": "code",
   "execution_count": null,
   "metadata": {
    "collapsed": true
   },
   "outputs": [],
   "source": [
    "Part2Points = None\n",
    "FinalPointsList.append(Part2Points)"
   ]
  },
  {
   "cell_type": "markdown",
   "metadata": {},
   "source": [
    "---"
   ]
  },
  {
   "cell_type": "markdown",
   "metadata": {},
   "source": [
    "### Thoughtfulness and clarity of the interpretation of quantitative results\n",
    "\n",
    "Grade = Null/30"
   ]
  },
  {
   "cell_type": "code",
   "execution_count": null,
   "metadata": {
    "collapsed": true
   },
   "outputs": [],
   "source": [
    "Part3Points = None\n",
    "FinalPointsList.append(Part3Points)"
   ]
  },
  {
   "cell_type": "markdown",
   "metadata": {},
   "source": [
    "---"
   ]
  },
  {
   "cell_type": "markdown",
   "metadata": {},
   "source": [
    "### Novelty and suitablity of the data\n",
    "\n",
    "Grade = Null/10"
   ]
  },
  {
   "cell_type": "code",
   "execution_count": null,
   "metadata": {
    "collapsed": true
   },
   "outputs": [],
   "source": [
    "Part4Points = None\n",
    "FinalPointsList.append(Part4Points)"
   ]
  },
  {
   "cell_type": "markdown",
   "metadata": {},
   "source": [
    "---"
   ]
  },
  {
   "cell_type": "markdown",
   "metadata": {},
   "source": [
    "### Quality of documentation\n",
    "\n",
    "Grade = Null/10"
   ]
  },
  {
   "cell_type": "code",
   "execution_count": null,
   "metadata": {
    "collapsed": true
   },
   "outputs": [],
   "source": [
    "Part5Points = None\n",
    "FinalPointsList.append(Part5Points)"
   ]
  },
  {
   "cell_type": "markdown",
   "metadata": {},
   "source": [
    "---"
   ]
  },
  {
   "cell_type": "code",
   "execution_count": null,
   "metadata": {
    "collapsed": true
   },
   "outputs": [],
   "source": [
    "#FinalGrade = sum(Part5Points)\n",
    "#print(\"Your final grade is {:3} out of 100\")"
   ]
  },
  {
   "cell_type": "markdown",
   "metadata": {},
   "source": [
    "---\n",
    "\n",
    "---"
   ]
  },
  {
   "cell_type": "markdown",
   "metadata": {},
   "source": [
    "#### Please commence your report below."
   ]
  },
  {
   "cell_type": "markdown",
   "metadata": {},
   "source": [
    "---"
   ]
  }
 ],
 "metadata": {
  "kernelspec": {
   "display_name": "Python 3",
   "language": "python",
   "name": "python3"
  },
  "language_info": {
   "codemirror_mode": {
    "name": "ipython",
    "version": 3
   },
   "file_extension": ".py",
   "mimetype": "text/x-python",
   "name": "python",
   "nbconvert_exporter": "python",
   "pygments_lexer": "ipython3",
   "version": "3.7.1"
  }
 },
 "nbformat": 4,
 "nbformat_minor": 2
}
